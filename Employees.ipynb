{
 "cells": [
  {
   "cell_type": "code",
   "execution_count": null,
   "id": "cc61b85a",
   "metadata": {},
   "outputs": [],
   "source": [
    "import pandas as pd\n",
    "import seaborn as sns\n",
    "import numpy as np\n",
    "import matplotlib.pyplot as plt\n",
    "from sqlalchemy import create_engine\n",
    "from sqlalchemy.ext.declarative import declarative_base\n",
    "import lib\n"
   ]
  },
  {
   "cell_type": "code",
   "execution_count": null,
   "id": "dd715a1d",
   "metadata": {},
   "outputs": [],
   "source": [
    "engine = create_engine(f'postgresql://{lib.password}@localhost:5432/SQL_Challenge_NWU')\n",
    "connection = engine.connect()\n"
   ]
  },
  {
   "cell_type": "code",
   "execution_count": null,
   "id": "5df32001",
   "metadata": {},
   "outputs": [],
   "source": [
    "query = \"SELECT salary FROM salaries ORDER BY salary;\" \n",
    "salary_df = pd.read_sql(query, connection)\n",
    "salary_df"
   ]
  },
  {
   "cell_type": "code",
   "execution_count": null,
   "id": "346f9db3",
   "metadata": {},
   "outputs": [],
   "source": [
    "salary_df.plot(kind=\"hist\")"
   ]
  },
  {
   "cell_type": "code",
   "execution_count": null,
   "id": "662e208c",
   "metadata": {},
   "outputs": [],
   "source": [
    "# sns.set(style=\"darkgrid\")\n",
    "# plt.figure(figsize=(12,8))\n",
    "# sns.kdeplot(df_cleaned[df_cleaned[\"Bachelors_Degree\"]==1][\"basesalary\"], color=\"crimson\", label=\"Bachelor's Degree\", multiple=\"stack\")\n",
    "# sns.kdeplot(df_cleaned[df_cleaned[\"Highschool\"]==1][\"basesalary\"], color=\"lightgreen\", label=\"Highschool Degree\", multiple=\"stack\")\n",
    "# sns.kdeplot(df_cleaned[df_cleaned[\"Masters_Degree\"]==1][\"basesalary\"], color=\"sandybrown\", label=\"Master's Degree\", multiple=\"stack\")\n",
    "# sns.kdeplot(df_cleaned[df_cleaned[\"Doctorate_Degree\"]==1][\"basesalary\"], color=\"darkturquoise\", label=\"PhD Degree\", multiple=\"stack\")\n",
    "# plt.title(\"Base Salary Based on Degrees\", size=18,bbox={'facecolor':'0.8', 'pad':5})\n",
    "# plt.xlabel(\"Base Salary ($)\", size=15)\n",
    "# plt.ylabel(\"Density\", size=15)\n",
    "# plt.legend()\n",
    "# plt.savefig(\"output_images/basesalary_Based_on_degrees\")\n",
    "# plt.show()"
   ]
  },
  {
   "cell_type": "code",
   "execution_count": null,
   "id": "c8e85991",
   "metadata": {},
   "outputs": [],
   "source": []
  }
 ],
 "metadata": {
  "kernelspec": {
   "display_name": "Python [conda env:py38]",
   "language": "python",
   "name": "conda-env-py38-py"
  },
  "language_info": {
   "codemirror_mode": {
    "name": "ipython",
    "version": 3
   },
   "file_extension": ".py",
   "mimetype": "text/x-python",
   "name": "python",
   "nbconvert_exporter": "python",
   "pygments_lexer": "ipython3",
   "version": "3.8.12"
  }
 },
 "nbformat": 4,
 "nbformat_minor": 5
}
